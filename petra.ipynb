{
  "nbformat": 4,
  "nbformat_minor": 0,
  "metadata": {
    "colab": {
      "name": "petra.ipynb",
      "provenance": [],
      "collapsed_sections": [],
      "toc_visible": true,
      "authorship_tag": "ABX9TyN3i1VloZisa2LsNIDPLNJ4",
      "include_colab_link": true
    },
    "kernelspec": {
      "name": "python3",
      "display_name": "Python 3"
    },
    "language_info": {
      "name": "python"
    }
  },
  "cells": [
    {
      "cell_type": "markdown",
      "metadata": {
        "id": "view-in-github",
        "colab_type": "text"
      },
      "source": [
        "<a href=\"https://colab.research.google.com/github/FrauBloehmann/DataScience/blob/main/petra.ipynb\" target=\"_parent\"><img src=\"https://colab.research.google.com/assets/colab-badge.svg\" alt=\"Open In Colab\"/></a>"
      ]
    },
    {
      "cell_type": "markdown",
      "source": [
        "# Python Übungen\n"
      ],
      "metadata": {
        "id": "gXm8J7GsjWDR"
      }
    },
    {
      "cell_type": "markdown",
      "source": [
        "Ein paar Snippets für den Anfang... aus dem Script"
      ],
      "metadata": {
        "id": "1OhNV7DljNNg"
      }
    },
    {
      "cell_type": "code",
      "source": [
        "# Random\n",
        "from random import randint\n",
        "import time\n",
        "\n",
        "stones = randint(1,7) * 4 + 1\n",
        "print(\"Es gibt\", stones, \" Steine.\")\n",
        "\n",
        "time.sleep(2) # sleeps 2 seconds\n",
        "\n",
        "rezepte = [\"Eierkuchen\", \"Risotto\", \"Bayrisch Kraut\"]\n",
        "print(\"Heute kochen: \", rezepte[randint(0,len(rezepte)-1)])"
      ],
      "metadata": {
        "id": "3vbDy0KrjL-z"
      },
      "execution_count": null,
      "outputs": []
    },
    {
      "cell_type": "code",
      "source": [
        "# Type hint/Typing\n",
        "def gcd(a: int, b: int) -> int:\n",
        "\twhile b:\n",
        "\t\ta,b = b, a%b\n",
        "\t\treturn a\n",
        "\n",
        "print(type(gcd(10,15)), gcd(10,15))"
      ],
      "metadata": {
        "id": "3wzoVH8JlsYu"
      },
      "execution_count": null,
      "outputs": []
    },
    {
      "cell_type": "code",
      "source": [
        "# Conversion/Casting\n",
        "n = int(input(\"Gib eine Ganzzahl ein: \"))\n",
        "print(type(n), '\\n')\n",
        "\n",
        "x = float(input(\"Gleitkommazahl: \")) \n",
        "print(type(x), '\\n')\n",
        "\n",
        "print('Ordnungszahl von a: ', ord('a'))\n",
        "print('Buchstabe zu Ordnungszahl 97: ', chr(97))\n",
        "print(int(\"1\") + 1 ) # int 2 str\n",
        "print(str(10))"
      ],
      "metadata": {
        "id": "5mFydcNpmgX1"
      },
      "execution_count": null,
      "outputs": []
    },
    {
      "cell_type": "markdown",
      "source": [
        "# Numpy"
      ],
      "metadata": {
        "id": "b-a_0jiUk0SP"
      }
    },
    {
      "cell_type": "code",
      "execution_count": null,
      "metadata": {
        "id": "niNLY4YFTGPI"
      },
      "outputs": [],
      "source": [
        "import numpy as np\n"
      ]
    },
    {
      "cell_type": "markdown",
      "source": [
        ""
      ],
      "metadata": {
        "id": "hJ2MCh3xT753"
      }
    },
    {
      "cell_type": "code",
      "source": [
        ""
      ],
      "metadata": {
        "id": "Xx7_nk0CTK_o"
      },
      "execution_count": null,
      "outputs": []
    }
  ]
}