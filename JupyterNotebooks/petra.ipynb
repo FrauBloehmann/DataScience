{
  "cells": [
    {
      "cell_type": "markdown",
      "metadata": {
        "colab_type": "text",
        "id": "view-in-github"
      },
      "source": [
        "<a href=\"https://colab.research.google.com/github/FrauBloehmann/DataScience/blob/main/JupyterNotebooks/petra.ipynb\" target=\"_parent\"><img src=\"https://colab.research.google.com/assets/colab-badge.svg\" alt=\"Open In Colab\"/></a>"
      ]
    },
    {
      "cell_type": "markdown",
      "metadata": {
        "id": "gXm8J7GsjWDR"
      },
      "source": [
        "# Python Übungen\n"
      ]
    },
    {
      "cell_type": "markdown",
      "metadata": {
        "id": "1OhNV7DljNNg"
      },
      "source": [
        "Ein paar Snippets für den Anfang... aus dem Script"
      ]
    },
    {
      "cell_type": "code",
      "execution_count": null,
      "metadata": {
        "id": "3vbDy0KrjL-z"
      },
      "outputs": [],
      "source": [
        "# Random\n",
        "from random import randint\n",
        "import time\n",
        "\n",
        "stones = randint(1,7) * 4 + 1\n",
        "print(\"Es gibt\", stones, \" Steine.\")\n",
        "\n",
        "time.sleep(2) # sleeps 2 seconds\n",
        "\n",
        "rezepte = [\"Eierkuchen\", \"Risotto\", \"Bayrisch Kraut\"]\n",
        "print(\"Heute kochen: \", rezepte[randint(0,len(rezepte)-1)])"
      ]
    },
    {
      "cell_type": "code",
      "execution_count": null,
      "metadata": {
        "id": "3wzoVH8JlsYu"
      },
      "outputs": [],
      "source": [
        "# Type hint/Typing\n",
        "def gcd(a: int, b: int) -> int:\n",
        "\twhile b:\n",
        "\t\ta,b = b, a%b\n",
        "\t\treturn a\n",
        "\n",
        "print(type(gcd(10,15)), gcd(10,15))"
      ]
    },
    {
      "cell_type": "code",
      "execution_count": null,
      "metadata": {
        "id": "5mFydcNpmgX1"
      },
      "outputs": [],
      "source": [
        "# Conversion/Casting\n",
        "n = int(input(\"Gib eine Ganzzahl ein: \"))\n",
        "print(type(n), '\\n')\n",
        "\n",
        "x = float(input(\"Gleitkommazahl: \")) \n",
        "print(type(x), '\\n')\n",
        "\n",
        "print('Ordnungszahl von a: ', ord('a'))\n",
        "print('Buchstabe zu Ordnungszahl 97: ', chr(97))\n",
        "print(int(\"1\") + 1 ) # int 2 str\n",
        "print(str(10))"
      ]
    },
    {
      "cell_type": "markdown",
      "metadata": {
        "id": "b-a_0jiUk0SP"
      },
      "source": [
        "# Numpy"
      ]
    },
    {
      "cell_type": "markdown",
      "metadata": {},
      "source": [
        "Numpy Quickstart\n",
        "https://numpy.org/doc/stable/user/quickstart.html "
      ]
    },
    {
      "cell_type": "code",
      "execution_count": null,
      "metadata": {
        "id": "niNLY4YFTGPI"
      },
      "outputs": [],
      "source": [
        "import numpy as np\n",
        "a = np.arange(15).reshape(3, 5)\n",
        "a"
      ]
    },
    {
      "cell_type": "code",
      "execution_count": null,
      "metadata": {
        "id": "Xx7_nk0CTK_o"
      },
      "outputs": [],
      "source": [
        "#arrays with initial placeholder content (zeros, ones, empty)\n",
        "import numpy as np\n",
        "np.zeros((3, 4))"
      ]
    },
    {
      "cell_type": "code",
      "execution_count": null,
      "metadata": {},
      "outputs": [],
      "source": [
        "#arrays with datatype, standard is float\n",
        "import numpy as np\n",
        "np.zeros((3, 4), dtype=np.int16)"
      ]
    },
    {
      "cell_type": "code",
      "execution_count": null,
      "metadata": {},
      "outputs": [],
      "source": [
        "#arrays with datatype, standard is float\n",
        "import numpy as np\n",
        "np.zeros((3, 4), dtype=np.int16)"
      ]
    },
    {
      "cell_type": "markdown",
      "metadata": {},
      "source": [
        "*Basic Operations*\n",
        "Arithmetic operators on arrays apply elementwise. A new array is created and filled with the result."
      ]
    }
  ],
  "metadata": {
    "colab": {
      "authorship_tag": "ABX9TyN3i1VloZisa2LsNIDPLNJ4",
      "collapsed_sections": [],
      "include_colab_link": true,
      "name": "petra.ipynb",
      "provenance": [],
      "toc_visible": true
    },
    "kernelspec": {
      "display_name": "Python 3",
      "name": "python3"
    },
    "language_info": {
      "codemirror_mode": {
        "name": "ipython",
        "version": 3
      },
      "file_extension": ".py",
      "mimetype": "text/x-python",
      "name": "python",
      "nbconvert_exporter": "python",
      "pygments_lexer": "ipython3",
      "version": "3.9.7"
    }
  },
  "nbformat": 4,
  "nbformat_minor": 0
}
