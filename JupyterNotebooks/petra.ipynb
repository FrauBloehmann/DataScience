{
  "cells": [
    {
      "cell_type": "markdown",
      "metadata": {
        "colab_type": "text",
        "id": "view-in-github"
      },
      "source": [
        "<a href=\"https://colab.research.google.com/github/FrauBloehmann/DataScience/blob/main/JupyterNotebooks/petra.ipynb\" target=\"_parent\"><img src=\"https://colab.research.google.com/assets/colab-badge.svg\" alt=\"Open In Colab\"/></a>"
      ]
    },
    {
      "cell_type": "markdown",
      "metadata": {
        "id": "gXm8J7GsjWDR"
      },
      "source": [
        "# Python Übungen\n"
      ]
    },
    {
      "cell_type": "markdown",
      "metadata": {
        "id": "1OhNV7DljNNg"
      },
      "source": [
        "Ein paar Snippets für den Anfang... aus dem Script"
      ]
    },
    {
      "cell_type": "code",
      "execution_count": null,
      "metadata": {
        "id": "3vbDy0KrjL-z"
      },
      "outputs": [],
      "source": [
        "# Random\n",
        "from random import randint\n",
        "import time\n",
        "\n",
        "stones = randint(1,7) * 4 + 1\n",
        "print(\"Es gibt\", stones, \" Steine.\")\n",
        "\n",
        "time.sleep(2) # sleeps 2 seconds\n",
        "\n",
        "rezepte = [\"Eierkuchen\", \"Risotto\", \"Bayrisch Kraut\"]\n",
        "print(\"Heute kochen: \", rezepte[randint(0,len(rezepte)-1)])"
      ]
    },
    {
      "cell_type": "code",
      "execution_count": null,
      "metadata": {
        "id": "3wzoVH8JlsYu"
      },
      "outputs": [],
      "source": [
        "# Type hint/Typing\n",
        "def gcd(a: int, b: int) -> int:\n",
        "\twhile b:\n",
        "\t\ta,b = b, a%b\n",
        "\t\treturn a\n",
        "\n",
        "print(type(gcd(10,15)), gcd(10,15))"
      ]
    },
    {
      "cell_type": "code",
      "execution_count": null,
      "metadata": {
        "id": "5mFydcNpmgX1"
      },
      "outputs": [],
      "source": [
        "# Conversion/Casting\n",
        "n = int(input(\"Gib eine Ganzzahl ein: \"))\n",
        "print(type(n), '\\n')\n",
        "\n",
        "x = float(input(\"Gleitkommazahl: \")) \n",
        "print(type(x), '\\n')\n",
        "\n",
        "print('Ordnungszahl von a: ', ord('a'))\n",
        "print('Buchstabe zu Ordnungszahl 97: ', chr(97))\n",
        "print(int(\"1\") + 1 ) # int 2 str\n",
        "print(str(10))"
      ]
    },
    {
      "cell_type": "markdown",
      "metadata": {
        "id": "b-a_0jiUk0SP"
      },
      "source": [
        "# Numpy"
      ]
    },
    {
      "cell_type": "code",
      "execution_count": 2,
      "metadata": {
        "id": "niNLY4YFTGPI"
      },
      "outputs": [
        {
          "data": {
            "text/plain": [
              "numpy.ndarray"
            ]
          },
          "execution_count": 2,
          "metadata": {},
          "output_type": "execute_result"
        }
      ],
      "source": [
        "import numpy as np\n",
        "\n",
        "a = np.arange(15).reshape(3, 5)\n",
        "# Ausgabe des Arrays\n",
        "a\n",
        "# Dimensionen/Datentyp/size in byte of elements/nr of items\n",
        "#a.shape\n",
        "#a.ndim\n",
        "#a.dtype.name\n",
        "#a.itemsize\n",
        "#a.size\n",
        "type(a)\n",
        "\n",
        "b = np.array([6, 7, 8])\n",
        "b\n",
        "type(b)"
      ]
    },
    {
      "cell_type": "markdown",
      "metadata": {
        "id": "hJ2MCh3xT753"
      },
      "source": []
    },
    {
      "cell_type": "code",
      "execution_count": null,
      "metadata": {
        "id": "Xx7_nk0CTK_o"
      },
      "outputs": [],
      "source": []
    }
  ],
  "metadata": {
    "colab": {
      "authorship_tag": "ABX9TyN3i1VloZisa2LsNIDPLNJ4",
      "collapsed_sections": [],
      "include_colab_link": true,
      "name": "petra.ipynb",
      "provenance": [],
      "toc_visible": true
    },
    "kernelspec": {
      "display_name": "Python 3",
      "name": "python3"
    },
    "language_info": {
      "codemirror_mode": {
        "name": "ipython",
        "version": 3
      },
      "file_extension": ".py",
      "mimetype": "text/x-python",
      "name": "python",
      "nbconvert_exporter": "python",
      "pygments_lexer": "ipython3",
      "version": "3.9.7"
    }
  },
  "nbformat": 4,
  "nbformat_minor": 0
}
